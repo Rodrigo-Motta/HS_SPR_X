{
 "cells": [
  {
   "cell_type": "code",
   "execution_count": 119,
   "id": "a7045fd5",
   "metadata": {},
   "outputs": [],
   "source": [
    "import os\n",
    "import cv2 # OpenCV ou cv2 para tratamento de imagens;\n",
    "import numpy as np # Numpy para trabalharmos com matrizes n-dimensionais\n",
    "from keras.models import Sequential # Importando modelo sequencial\n",
    "from keras.layers.convolutional import Conv2D, MaxPooling2D # Camada de convolução e max pooling\n",
    "from keras.layers.core import Activation, Flatten, Dense, Dropout # Camada da função de ativação, flatten, entre outros\n",
    "from keras import backend as K # backend do keras\n",
    "from keras.optimizers import Adam # optimizador Adam\n",
    "from keras.utils import to_categorical # Função utilizada para categorizar listas de treino e teste\n",
    "from keras.preprocessing.image import ImageDataGenerator # Classe para ajudar na variação de amostras de treinamento\n",
    "from keras.callbacks import ModelCheckpoint # Classe utilizada para acompanhamento durante o treinamento onde definimos os atributos que serão considerados para avaliação\n",
    "import matplotlib.pyplot as plt\n",
    "import tensorflow as tf"
   ]
  },
  {
   "cell_type": "code",
   "execution_count": 120,
   "id": "3fc590ef",
   "metadata": {},
   "outputs": [
    {
     "name": "stdout",
     "output_type": "stream",
     "text": [
      "/\n"
     ]
    }
   ],
   "source": [
    "%cd ..\n"
   ]
  },
  {
   "cell_type": "code",
   "execution_count": 121,
   "id": "163ca6d3",
   "metadata": {},
   "outputs": [],
   "source": [
    "from utils import get_data"
   ]
  },
  {
   "cell_type": "code",
   "execution_count": null,
   "id": "b3309fd4",
   "metadata": {},
   "outputs": [
    {
     "name": "stdout",
     "output_type": "stream",
     "text": [
      "Progress: 100.00%\r"
     ]
    }
   ],
   "source": [
    "data_path = '/Users/rodrigo/Documents/SPR_X_data/spr-x-ray-age/kaggle/kaggle/train/'\n",
    "label_data_path = '/Users/rodrigo/Documents/SPR_X_data/spr-x-ray-age/train_gender.csv'\n",
    "width = 500\n",
    "height = 500\n",
    "final_data_path = None\n",
    "input_shape = (500,500,1)\n",
    "\n",
    "\n",
    "X, y = get_data(data_path, label_data_path, width, height)"
   ]
  },
  {
   "cell_type": "code",
   "execution_count": null,
   "id": "1e6f67b9",
   "metadata": {},
   "outputs": [],
   "source": [
    "plt.imshow(X[-104], cmap='Greys_r')"
   ]
  },
  {
   "cell_type": "code",
   "execution_count": null,
   "id": "1fca094f",
   "metadata": {},
   "outputs": [],
   "source": [
    "X_train = X[:-1702]\n",
    "y_train = y[:-1702]\n",
    "X_val = X[-1720:]\n",
    "y_val = y[-1720:]"
   ]
  },
  {
   "cell_type": "code",
   "execution_count": null,
   "id": "1563f83a",
   "metadata": {},
   "outputs": [],
   "source": [
    "y_val.sum()/len(y_val)"
   ]
  },
  {
   "cell_type": "code",
   "execution_count": null,
   "id": "097921e3",
   "metadata": {},
   "outputs": [],
   "source": [
    "strategy = tf.test.gpu_device_name()\n",
    "if len(strategy) > 0:\n",
    "    print(\"Found GPU at: {}\".format(strategy))\n",
    "else:\n",
    "    strategy = \"/device:CPU:0\"\n",
    "    print(\"No GPU, using {}.\".format(strategy))"
   ]
  },
  {
   "cell_type": "code",
   "execution_count": null,
   "id": "9c77276c",
   "metadata": {},
   "outputs": [],
   "source": [
    "\n",
    "def create_lenet(input_shape):\n",
    "\n",
    "    # Definimos que estamos criando um modelo sequencial\n",
    "    model = Sequential()\n",
    "\n",
    "    # Primeira camada do modelo:\n",
    "    model.add(Conv2D(32, (3, 3), padding=\"same\", input_shape=input_shape))\n",
    "    model.add(Activation(\"relu\"))\n",
    "    model.add(MaxPooling2D(pool_size=(2, 2), strides=(2, 2)))\n",
    "\n",
    "    # Segunda camada do modelo:\n",
    "    model.add(Conv2D(64, (5, 5), padding=\"same\"))\n",
    "    model.add(Activation(\"relu\"))\n",
    "    model.add(MaxPooling2D(pool_size=(2, 2), strides=(2, 2)))\n",
    "\n",
    "    # Primeira camada fully connected\n",
    "    model.add(Flatten())\n",
    "    model.add(Dense(500))\n",
    "    model.add(Activation(\"relu\"))\n",
    "\n",
    "    # Classificador softmax\n",
    "    model.add(Dense(classes))\n",
    "    model.add(Activation(\"Softmax\"))\n",
    "    return model\n",
    "\n",
    "def CNN(input_shape):\n",
    "    cnn = Sequential()\n",
    "    \n",
    "    cnn.add(Conv2D(32, (3, 3), activation=\"relu\", input_shape=input_shape, strides=(2,2)))\n",
    "    cnn.add(MaxPooling2D(pool_size = (2, 2)))\n",
    "    cnn.add(Conv2D(32, (3, 3), activation=\"relu\", input_shape=input_shape))\n",
    "    cnn.add(MaxPooling2D(pool_size = (2, 2)))\n",
    "    cnn.add(Dropout(0.3))\n",
    "    cnn.add(Conv2D(32, (3, 3), activation=\"relu\", input_shape=input_shape))\n",
    "    cnn.add(MaxPooling2D(pool_size = (2, 2)))\n",
    "    cnn.add(Conv2D(64, (3, 3), activation=\"relu\", input_shape=input_shape))\n",
    "    cnn.add(MaxPooling2D(pool_size = (2, 2)))\n",
    "    cnn.add(Dropout(0.3))\n",
    "    cnn.add(Conv2D(64, (3, 3), activation=\"relu\", input_shape=input_shape))\n",
    "    cnn.add(MaxPooling2D(pool_size = (2, 2)))\n",
    "    \n",
    "    cnn.add(Flatten())\n",
    "    cnn.add(Dense(activation = 'relu', units = 64))\n",
    "    cnn.add(Dropout(0.3))\n",
    "    cnn.add(Dense(activation = 'relu', units = 32))\n",
    "    cnn.add(Dense(activation = 'sigmoid', units = 1))\n",
    "    return cnn\n",
    "\n",
    "if __name__ == '__main__':\n",
    "    \n",
    "    #models_path = \"models\" # Defina aqui onde serão salvos os modelos na sua maquina\n",
    "    classes = 2 # Quantidade de classes que o modelo utilizará\n",
    "    epochs = 10 # Quantidade de épocas (a quantidade de iterações que o modelo realizará durante o treinamento)\n",
    "    init_lr = 1e-3 # Taxa de aprendizado a ser utilizado pelo optimizador\n",
    "    batch_size = 32 # Tamanho dos lotes utilizados por cada epoca\n",
    "    \n",
    "#     save_model = os.path.join(models_path, \"lenet-{epoch:02d}-{acc:.3f}-{val_acc:.3f}.model\")\n",
    "#     os.makedirs(models_path, exist_ok=True)\n",
    "\n",
    "\n",
    "\n",
    "    aug = ImageDataGenerator(rotation_range=30, width_shift_range=0.1,\n",
    "                height_shift_range=0.1, shear_range=0.2, zoom_range=0.2,\n",
    "                fill_mode=\"nearest\")\n",
    "\n",
    "    model = CNN(input_shape)\n",
    "\n",
    "    opt = Adam(lr=init_lr, decay=init_lr / epochs)\n",
    "\n",
    "    model.compile(loss=\"binary_crossentropy\", optimizer=opt, metrics=[\"accuracy\"])\n",
    "    model.summary()\n",
    "    \n",
    "    history = model.fit(X_train, y_train, epochs=10, \n",
    "                    validation_data=(X_val, y_val))\n",
    "\n",
    "    print(\"\\n training network\")\n",
    "\n",
    "#     checkpoint1 = ModelCheckpoint(save_model, monitor='val_loss', verbose=1, save_best_only=True, mode='min')\n",
    "#     checkpoint2 = ModelCheckpoint(save_model, monitor='val_acc', verbose=1, save_best_only=True, mode='max')\n",
    "#     callbacks_list = [checkpoint1,checkpoint2]\n",
    "\n",
    "#     H = model.fit_generator(aug.flow(X_train, y_train, batch_size=batch_size),\n",
    "#             validation_data=(X_val, y_val), steps_per_epoch=len(X_train) // batch_size,\n",
    "#             epochs=epochs, verbose=1)"
   ]
  },
  {
   "cell_type": "code",
   "execution_count": null,
   "id": "d135b857",
   "metadata": {},
   "outputs": [],
   "source": [
    "plt.plot(history.history['accuracy'], label='accuracy')\n",
    "plt.plot(history.history['val_accuracy'], label = 'val_accuracy')\n",
    "plt.xlabel('Epoch')\n",
    "plt.ylabel('Accuracy')\n",
    "plt.ylim([0.5, 1])\n",
    "plt.legend(loc='lower right')\n",
    "\n",
    "#test_loss, test_acc = model.evaluate(test_images,  test_labels, verbose=2)"
   ]
  },
  {
   "cell_type": "code",
   "execution_count": null,
   "id": "f7d8277f",
   "metadata": {},
   "outputs": [],
   "source": []
  }
 ],
 "metadata": {
  "kernelspec": {
   "display_name": "Python 3 (ipykernel)",
   "language": "python",
   "name": "python3"
  },
  "language_info": {
   "codemirror_mode": {
    "name": "ipython",
    "version": 3
   },
   "file_extension": ".py",
   "mimetype": "text/x-python",
   "name": "python",
   "nbconvert_exporter": "python",
   "pygments_lexer": "ipython3",
   "version": "3.9.6"
  }
 },
 "nbformat": 4,
 "nbformat_minor": 5
}
